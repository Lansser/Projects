{
 "cells": [
  {
   "cell_type": "code",
   "execution_count": 1,
   "metadata": {},
   "outputs": [
    {
     "name": "stdout",
     "output_type": "stream",
     "text": [
      "Ваш алгоритм угадывает число в среднем за 6 попыток\n"
     ]
    },
    {
     "data": {
      "text/plain": [
       "6"
      ]
     },
     "execution_count": 1,
     "metadata": {},
     "output_type": "execute_result"
    }
   ],
   "source": [
    "import numpy as np\n",
    "def avg_cell_value(number):\n",
    "    '''Функция используется для получения среднего целого числа'''\n",
    "    if int(number%2)==0:\n",
    "        number = int(number/2)\n",
    "    else:\n",
    "        number = int((number+1)/2)\n",
    "    return number\n",
    "\n",
    "def game_core(number):\n",
    "    '''Функция принимает загаданное число и возвращает число попыток\n",
    "    Алгоритм функции такой, что фактически она делит 100 на 2 пока не найдет промежуток\n",
    "    из 2 чисел где есть зада'''\n",
    "    count = 1\n",
    "    addit=100\n",
    "    '''Задаем дополнительное значение, которое равно размеру выборки и в дальнейшем в цикле будет уменьшатся каждый раз в 2 раза'''\n",
    "    predict=avg_cell_value(addit)\n",
    "    '''Устанавливаем начальное значение, с которого начнется проверка. Оно равно размер выборки/2'''\n",
    "    \n",
    "    while number != predict:\n",
    "        count+=1\n",
    "        if number > predict: \n",
    "            addit = avg_cell_value(addit)\n",
    "            predict=predict+addit\n",
    "            '''Здесь мы добавляем к начальному значению дополнительное уменьшеное в 2 раза для продолжения поиска вверх'''\n",
    "        elif number < predict:\n",
    "            addit = avg_cell_value(addit)\n",
    "            predict=predict-addit\n",
    "            '''Здесь мы вычитаем из начального значения дополнительное уменьшеное в 2 раза для продолжения поиска вниз'''\n",
    "    return(count) # выход из цикла, если угадали\n",
    "        \n",
    "        \n",
    "def score_game(game_core):\n",
    "    '''Запускаем игру 1000 раз, чтобы узнать, как быстро игра угадывает число'''\n",
    "    count_ls = []\n",
    "    np.random.seed(1)  # фиксируем RANDOM SEED, чтобы ваш эксперимент был воспроизводим!\n",
    "    random_array = np.random.randint(1,101, size=(1000))\n",
    "    for number in random_array:\n",
    "        count_ls.append(game_core(number))\n",
    "    score = int(np.mean(count_ls))\n",
    "    print(f\"Ваш алгоритм угадывает число в среднем за {score} попыток\")\n",
    "    return(score)\n",
    "\n",
    "# Проверяем\n",
    "score_game(game_core)"
   ]
  },
  {
   "cell_type": "code",
   "execution_count": null,
   "metadata": {},
   "outputs": [],
   "source": []
  }
 ],
 "metadata": {
  "kernelspec": {
   "display_name": "Python 3",
   "language": "python",
   "name": "python3"
  },
  "language_info": {
   "codemirror_mode": {
    "name": "ipython",
    "version": 3
   },
   "file_extension": ".py",
   "mimetype": "text/x-python",
   "name": "python",
   "nbconvert_exporter": "python",
   "pygments_lexer": "ipython3",
   "version": "3.8.3"
  }
 },
 "nbformat": 4,
 "nbformat_minor": 4
}
